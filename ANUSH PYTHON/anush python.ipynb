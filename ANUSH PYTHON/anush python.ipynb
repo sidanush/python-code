{
 "cells": [
  {
   "cell_type": "code",
   "execution_count": 1,
   "id": "86b173c4-1fb1-4637-b58d-5265f085040d",
   "metadata": {},
   "outputs": [
    {
     "name": "stdout",
     "output_type": "stream",
     "text": [
      "anush\n"
     ]
    }
   ],
   "source": [
    "print(\"anush\")"
   ]
  },
  {
   "cell_type": "code",
   "execution_count": 7,
   "id": "f2e39cd9-5a38-40be-bc65-3cb1d468003b",
   "metadata": {},
   "outputs": [
    {
     "name": "stdout",
     "output_type": "stream",
     "text": [
      "anssuh-world\n"
     ]
    }
   ],
   "source": [
    "print(\"anssuh\",\"world\",sep='-')"
   ]
  },
  {
   "cell_type": "code",
   "execution_count": 9,
   "id": "36f211a8-1ccf-4f17-a899-fa5e9769c7ce",
   "metadata": {},
   "outputs": [
    {
     "name": "stdout",
     "output_type": "stream",
     "text": [
      "anush\n",
      "india\n"
     ]
    }
   ],
   "source": [
    "print(\"anush\")\n",
    "print(\"india\")"
   ]
  },
  {
   "cell_type": "code",
   "execution_count": 11,
   "id": "96d96624-a697-48fe-9928-4842bd53bc69",
   "metadata": {},
   "outputs": [
    {
     "name": "stdout",
     "output_type": "stream",
     "text": [
      "7898898898\n"
     ]
    }
   ],
   "source": [
    "#integer\n",
    "print(7898898898)"
   ]
  },
  {
   "cell_type": "code",
   "execution_count": 13,
   "id": "5e95ff78-f7b5-4cd3-95f3-e06aaafcc054",
   "metadata": {},
   "outputs": [
    {
     "name": "stdout",
     "output_type": "stream",
     "text": [
      "7.88767877\n"
     ]
    }
   ],
   "source": [
    "#float\n",
    "print(7.88767877)"
   ]
  },
  {
   "cell_type": "code",
   "execution_count": 19,
   "id": "10a231ea-14bc-45ef-bd1a-67ed008c840e",
   "metadata": {},
   "outputs": [
    {
     "name": "stdout",
     "output_type": "stream",
     "text": [
      "true false\n"
     ]
    }
   ],
   "source": [
    "#boolean\n",
    "print(\"true\",\"false\")"
   ]
  },
  {
   "cell_type": "code",
   "execution_count": 23,
   "id": "ab8cc48d-3154-4ae3-83a8-1b58f8babbba",
   "metadata": {},
   "outputs": [
    {
     "name": "stdout",
     "output_type": "stream",
     "text": [
      "True\n"
     ]
    }
   ],
   "source": [
    "print(True)"
   ]
  },
  {
   "cell_type": "code",
   "execution_count": 33,
   "id": "750ca656-a9d2-417f-906c-905e183c7db0",
   "metadata": {},
   "outputs": [
    {
     "name": "stdout",
     "output_type": "stream",
     "text": [
      "(4+6j)\n"
     ]
    }
   ],
   "source": [
    "#complex\n",
    "print(4+6j)"
   ]
  },
  {
   "cell_type": "code",
   "execution_count": 35,
   "id": "d8773c3a-d716-46df-a855-b75cae50a772",
   "metadata": {},
   "outputs": [
    {
     "name": "stdout",
     "output_type": "stream",
     "text": [
      "anush\n"
     ]
    }
   ],
   "source": [
    "name = 'anush'\n",
    "print(name)"
   ]
  },
  {
   "cell_type": "code",
   "execution_count": 1,
   "id": "6e293d68-a30a-428f-a842-0cc119f60b68",
   "metadata": {},
   "outputs": [
    {
     "name": "stdout",
     "output_type": "stream",
     "text": [
      "9\n"
     ]
    }
   ],
   "source": [
    "a=5\n",
    "b=4\n",
    "c=a+b\n",
    "\n",
    "print(c)"
   ]
  },
  {
   "cell_type": "code",
   "execution_count": 47,
   "id": "4d3191ae-47a8-4427-a36b-bddb10a0aa4a",
   "metadata": {},
   "outputs": [
    {
     "name": "stdout",
     "output_type": "stream",
     "text": [
      "1 2 3\n"
     ]
    }
   ],
   "source": [
    "a,b,c=1,2,3\n",
    "print(a,b,c)"
   ]
  },
  {
   "cell_type": "code",
   "execution_count": null,
   "id": "e0ebe161-01e3-4cf9-bd39-df5d242f41c1",
   "metadata": {},
   "outputs": [],
   "source": [
    "keywords \n",
    "False True None\r\n",
    "\r\n",
    "class def return yield lambda\r\n",
    "\r\n",
    "try except raise finally assert\r\n",
    "\r\n",
    "is and or not\r\n",
    "\r\n",
    "break continue\r\n",
    "\r\n",
    "for in while if elif else\r\n",
    "\r\n",
    "from import as \r",
    "lambaglobal nonloal\r\n",
    "\r\n",
    "with pass\r\n"
   ]
  },
  {
   "cell_type": "code",
   "execution_count": 49,
   "id": "a599f244-aab9-4ac3-9715-8d0126957006",
   "metadata": {},
   "outputs": [
    {
     "name": "stdout",
     "output_type": "stream",
     "text": [
      "['False', 'None', 'True', 'and', 'as', 'assert', 'async', 'await', 'break', 'class', 'continue', 'def', 'del', 'elif', 'else', 'except', 'finally', 'for', 'from', 'global', 'if', 'import', 'in', 'is', 'lambda', 'nonlocal', 'not', 'or', 'pass', 'raise', 'return', 'try', 'while', 'with', 'yield']\n"
     ]
    }
   ],
   "source": [
    "import keyword\n",
    "print(keyword.kwlist)"
   ]
  },
  {
   "cell_type": "code",
   "execution_count": 51,
   "id": "9f878b32-52a2-461a-81eb-8d09139dcb5a",
   "metadata": {},
   "outputs": [
    {
     "name": "stdin",
     "output_type": "stream",
     "text": [
      " anush\n"
     ]
    },
    {
     "data": {
      "text/plain": [
       "'anush'"
      ]
     },
     "execution_count": 51,
     "metadata": {},
     "output_type": "execute_result"
    }
   ],
   "source": [
    "input()"
   ]
  },
  {
   "cell_type": "code",
   "execution_count": 5,
   "id": "dd1c09bf-7358-4316-8fbe-5e48e39cd072",
   "metadata": {},
   "outputs": [
    {
     "name": "stdin",
     "output_type": "stream",
     "text": [
      "enter a 4\n",
      "enter b 5\n"
     ]
    }
   ],
   "source": [
    "a=int(input(\"enter a\"))\n",
    "b=int(input(\"enter b\"))"
   ]
  },
  {
   "cell_type": "code",
   "execution_count": 55,
   "id": "913a94bc-20f5-4941-b990-9951977e5215",
   "metadata": {},
   "outputs": [],
   "source": [
    "#implicit explicit"
   ]
  },
  {
   "cell_type": "code",
   "execution_count": 7,
   "id": "7e5801b3-3dd2-48f9-895d-37c09d63444c",
   "metadata": {},
   "outputs": [
    {
     "data": {
      "text/plain": [
       "-1"
      ]
     },
     "execution_count": 7,
     "metadata": {},
     "output_type": "execute_result"
    }
   ],
   "source": [
    "a-b"
   ]
  },
  {
   "cell_type": "code",
   "execution_count": 65,
   "id": "2085e40b-c815-4f19-a98a-4ff17baeef48",
   "metadata": {},
   "outputs": [
    {
     "name": "stdout",
     "output_type": "stream",
     "text": [
      "-2\n"
     ]
    }
   ],
   "source": [
    "result= int(a)-int(b)\n",
    "print(result)"
   ]
  },
  {
   "cell_type": "code",
   "execution_count": 67,
   "id": "b97418bb-cd5b-44e5-bdea-48da95eaba23",
   "metadata": {},
   "outputs": [
    {
     "data": {
      "text/plain": [
       "'2'"
      ]
     },
     "execution_count": 67,
     "metadata": {},
     "output_type": "execute_result"
    }
   ],
   "source": [
    "a"
   ]
  },
  {
   "cell_type": "code",
   "execution_count": 92,
   "id": "e04eac5d-6b95-44e5-81e9-06942457fbb9",
   "metadata": {},
   "outputs": [
    {
     "ename": "TypeError",
     "evalue": "'str' object is not callable",
     "output_type": "error",
     "traceback": [
      "\u001b[1;31m---------------------------------------------------------------------------\u001b[0m",
      "\u001b[1;31mTypeError\u001b[0m                                 Traceback (most recent call last)",
      "Cell \u001b[1;32mIn[92], line 1\u001b[0m\n\u001b[1;32m----> 1\u001b[0m \u001b[38;5;28minput\u001b[39m(\u001b[38;5;124m\"\u001b[39m\u001b[38;5;124menter \u001b[39m\u001b[38;5;124m\"\u001b[39m)\n\u001b[0;32m      2\u001b[0m \u001b[38;5;28minput\u001b[39m(\u001b[38;5;124m\"\u001b[39m\u001b[38;5;124menter\u001b[39m\u001b[38;5;124m\"\u001b[39m)\n",
      "\u001b[1;31mTypeError\u001b[0m: 'str' object is not callable"
     ]
    }
   ],
   "source": [
    "input(\"enter \")\n",
    "input(\"enter\")\n"
   ]
  },
  {
   "cell_type": "code",
   "execution_count": null,
   "id": "55847b0c-3588-4219-916d-a18b1dec3f47",
   "metadata": {},
   "outputs": [],
   "source": []
  },
  {
   "cell_type": "code",
   "execution_count": null,
   "id": "abdbcab1-df20-4061-8c9d-a69fff6d036d",
   "metadata": {},
   "outputs": [],
   "source": []
  }
 ],
 "metadata": {
  "kernelspec": {
   "display_name": "Python 3 (ipykernel)",
   "language": "python",
   "name": "python3"
  },
  "language_info": {
   "codemirror_mode": {
    "name": "ipython",
    "version": 3
   },
   "file_extension": ".py",
   "mimetype": "text/x-python",
   "name": "python",
   "nbconvert_exporter": "python",
   "pygments_lexer": "ipython3",
   "version": "3.12.4"
  }
 },
 "nbformat": 4,
 "nbformat_minor": 5
}
